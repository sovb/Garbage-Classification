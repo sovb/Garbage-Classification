{
  "nbformat": 4,
  "nbformat_minor": 0,
  "metadata": {
    "colab": {
      "name": "Garbage-Classification-update.ipynb",
      "provenance": [],
      "collapsed_sections": [],
      "mount_file_id": "1F-5kcGWutJRi_eQR_JFlaVfWLD4yx-bH",
      "authorship_tag": "ABX9TyMUMCQxd0WIVPmvRn6wN0e6",
      "include_colab_link": true
    },
    "kernelspec": {
      "name": "python3",
      "display_name": "Python 3"
    },
    "language_info": {
      "name": "python"
    }
  },
  "cells": [
    {
      "cell_type": "markdown",
      "metadata": {
        "id": "view-in-github",
        "colab_type": "text"
      },
      "source": [
        "<a href=\"https://colab.research.google.com/github/sovb/Garbage-Classification/blob/main/Garbage_Classification_cnn.ipynb\" target=\"_parent\"><img src=\"https://colab.research.google.com/assets/colab-badge.svg\" alt=\"Open In Colab\"/></a>"
      ]
    },
    {
      "cell_type": "code",
      "source": [
        "%reload_ext autoreload\n",
        "%autoreload 2\n",
        "%matplotlib inline"
      ],
      "metadata": {
        "id": "HY7X7dmCC7Mu"
      },
      "execution_count": 1,
      "outputs": []
    },
    {
      "cell_type": "code",
      "execution_count": 2,
      "metadata": {
        "id": "7bsUAyDnCvd2"
      },
      "outputs": [],
      "source": [
        "from pathlib import Path\n",
        "from glob2 import glob\n",
        "from sklearn.metrics import confusion_matrix\n",
        "import cv2\n",
        "from keras.callbacks import ModelCheckpoint,EarlyStopping\n",
        "from keras.layers import Conv2D, Flatten, MaxPooling2D,Dense,Dropout,SpatialDropout2D\n",
        "from keras.models  import Sequential\n",
        "from keras.preprocessing.image import ImageDataGenerator, img_to_array, load_img, array_to_img\n",
        "import os\n",
        "import keras\n",
        "import tensorflow as tf\n",
        "import random,os,glob\n",
        "from sklearn.metrics import confusion_matrix\n",
        "#added by sovra\n",
        "import scipy\n",
        "from scipy import *\n",
        "import skimage\n",
        "from skimage import filters\n",
        "from skimage import io \n",
        "import matplotlib.pyplot as plt  #added by sovra\n",
        "import pandas as pd\n",
        "import numpy as np\n",
        "import zipfile as zf\n",
        "import shutil\n",
        "import re\n",
        "import seaborn as sns\n",
        "import random\n"
      ]
    },
    {
      "cell_type": "code",
      "source": [
        "dir_path = \"/content/drive/MyDrive/Colab Notebooks/dataset-resized\"\n",
        "\n",
        "img_list = glob.glob(os.path.join(dir_path, '*/*.jpg'))\n",
        "len(img_list)"
      ],
      "metadata": {
        "colab": {
          "base_uri": "https://localhost:8080/"
        },
        "id": "l0SonvjwE88N",
        "outputId": "e03efe30-6334-4dca-b076-4dda65142b5d"
      },
      "execution_count": 3,
      "outputs": [
        {
          "output_type": "execute_result",
          "data": {
            "text/plain": [
              "2527"
            ]
          },
          "metadata": {},
          "execution_count": 3
        }
      ]
    },
    {
      "cell_type": "markdown",
      "source": [
        "comment: maybe after performing the training, we can try gaussian blur to see if it makes a difference"
      ],
      "metadata": {
        "id": "Psarw3KlP_9c"
      }
    },
    {
      "cell_type": "code",
      "source": [
        "train=ImageDataGenerator(horizontal_flip=True,\n",
        "                         vertical_flip=True,\n",
        "                         validation_split=0.1,\n",
        "                         rescale=1./255)\n",
        "\n",
        "test=ImageDataGenerator(rescale=1./255,\n",
        "                        validation_split=0.1)\n",
        "\n",
        "train_generator=train.flow_from_directory(dir_path,\n",
        "                                          target_size=(256,256),\n",
        "                                          batch_size=32,\n",
        "                                          color_mode=\"rgb\",\n",
        "                                          class_mode='categorical',\n",
        "                                          subset='training')\n",
        "\n",
        "test_generator=test.flow_from_directory(dir_path,\n",
        "                                        target_size=(256,256),\n",
        "                                        batch_size=32,\n",
        "                                        color_mode=\"rgb\",\n",
        "                                        class_mode='categorical',\n",
        "                                        subset='validation')\n",
        "\n",
        "\n",
        "\n",
        "labels = (train_generator.class_indices)\n",
        "print(labels)\n",
        "labels = dict((v,k) for k,v in labels.items())\n",
        "print(labels)"
      ],
      "metadata": {
        "colab": {
          "base_uri": "https://localhost:8080/"
        },
        "id": "XoywIMM8Hk1F",
        "outputId": "86ee4783-84ee-461a-ac1b-ac2d517e13c4"
      },
      "execution_count": 4,
      "outputs": [
        {
          "output_type": "stream",
          "name": "stdout",
          "text": [
            "Found 2276 images belonging to 6 classes.\n",
            "Found 251 images belonging to 6 classes.\n",
            "{'cardboard': 0, 'glass': 1, 'metal': 2, 'paper': 3, 'plastic': 4, 'trash': 5}\n",
            "{0: 'cardboard', 1: 'glass', 2: 'metal', 3: 'paper', 4: 'plastic', 5: 'trash'}\n"
          ]
        }
      ]
    },
    {
      "cell_type": "code",
      "source": [
        "for image_batch, label_batch in train_generator:\n",
        "  break\n",
        "image_batch.shape, label_batch.shape"
      ],
      "metadata": {
        "colab": {
          "base_uri": "https://localhost:8080/"
        },
        "id": "daRnf-l4q2jw",
        "outputId": "7faa5d31-2f12-4f55-80a8-b0e34fbce6d5"
      },
      "execution_count": 5,
      "outputs": [
        {
          "output_type": "execute_result",
          "data": {
            "text/plain": [
              "((32, 256, 256, 3), (32, 6))"
            ]
          },
          "metadata": {},
          "execution_count": 5
        }
      ]
    },
    {
      "cell_type": "code",
      "source": [
        "print (train_generator.class_indices)\n",
        "\n",
        "Labels = '\\n'.join(sorted(train_generator.class_indices.keys()))\n",
        "\n",
        "with open('labels.txt', 'w') as f:\n",
        "  f.write(Labels)"
      ],
      "metadata": {
        "colab": {
          "base_uri": "https://localhost:8080/"
        },
        "id": "mxk3zB-i2LQU",
        "outputId": "2348459c-13ab-4d93-f7e6-c18e885f8c9d"
      },
      "execution_count": 6,
      "outputs": [
        {
          "output_type": "stream",
          "name": "stdout",
          "text": [
            "{'cardboard': 0, 'glass': 1, 'metal': 2, 'paper': 3, 'plastic': 4, 'trash': 5}\n"
          ]
        }
      ]
    },
    {
      "cell_type": "code",
      "source": [
        "model=Sequential()\n",
        "#Convolution blocks\n",
        "\n",
        "model.add(Conv2D(32,(3,3), padding='same',input_shape=(256,256,3),activation='relu'))\n",
        "model.add(MaxPooling2D(pool_size=2)) \n",
        "\n",
        "model.add(Conv2D(64,(3,3), padding='same',activation='relu'))\n",
        "model.add(MaxPooling2D(pool_size=2)) \n",
        "\n",
        "model.add(Conv2D(32,(3,3), padding='same',activation='relu'))\n",
        "model.add(MaxPooling2D(pool_size=2)) \n",
        "\n",
        "#Classification layers\n",
        "model.add(Flatten())\n",
        "\n",
        "model.add(Dense(64,activation='relu'))\n",
        "model.add(Dropout(0.2))\n",
        "model.add(Dense(32,activation='relu'))\n",
        "\n",
        "model.add(Dropout(0.2))\n",
        "model.add(Dense(6,activation='softmax'))\n",
        "\n",
        "filepath=\"trained_model.woo\"\n",
        "checkpoint1 = ModelCheckpoint(filepath, monitor='val_accuracy', verbose=1, save_best_only=True, mode='max')\n",
        "callbacks_list = [checkpoint1]\n"
      ],
      "metadata": {
        "id": "XNUv6oY92Tjx"
      },
      "execution_count": 7,
      "outputs": []
    },
    {
      "cell_type": "code",
      "source": [
        "model.summary()"
      ],
      "metadata": {
        "colab": {
          "base_uri": "https://localhost:8080/"
        },
        "id": "W9jAAeyq2X4y",
        "outputId": "94d09183-0f63-4f4c-832b-c6bd0d11db63"
      },
      "execution_count": 8,
      "outputs": [
        {
          "output_type": "stream",
          "name": "stdout",
          "text": [
            "Model: \"sequential\"\n",
            "_________________________________________________________________\n",
            " Layer (type)                Output Shape              Param #   \n",
            "=================================================================\n",
            " conv2d (Conv2D)             (None, 256, 256, 32)      896       \n",
            "                                                                 \n",
            " max_pooling2d (MaxPooling2D  (None, 128, 128, 32)     0         \n",
            " )                                                               \n",
            "                                                                 \n",
            " conv2d_1 (Conv2D)           (None, 128, 128, 64)      18496     \n",
            "                                                                 \n",
            " max_pooling2d_1 (MaxPooling  (None, 64, 64, 64)       0         \n",
            " 2D)                                                             \n",
            "                                                                 \n",
            " conv2d_2 (Conv2D)           (None, 64, 64, 32)        18464     \n",
            "                                                                 \n",
            " max_pooling2d_2 (MaxPooling  (None, 32, 32, 32)       0         \n",
            " 2D)                                                             \n",
            "                                                                 \n",
            " flatten (Flatten)           (None, 32768)             0         \n",
            "                                                                 \n",
            " dense (Dense)               (None, 64)                2097216   \n",
            "                                                                 \n",
            " dropout (Dropout)           (None, 64)                0         \n",
            "                                                                 \n",
            " dense_1 (Dense)             (None, 32)                2080      \n",
            "                                                                 \n",
            " dropout_1 (Dropout)         (None, 32)                0         \n",
            "                                                                 \n",
            " dense_2 (Dense)             (None, 6)                 198       \n",
            "                                                                 \n",
            "=================================================================\n",
            "Total params: 2,137,350\n",
            "Trainable params: 2,137,350\n",
            "Non-trainable params: 0\n",
            "_________________________________________________________________\n"
          ]
        }
      ]
    },
    {
      "cell_type": "code",
      "source": [
        "model.compile(loss='categorical_crossentropy',\n",
        "              optimizer='adam',\n",
        "              metrics=['accuracy']) \n"
      ],
      "metadata": {
        "id": "wRsX_K1u5msl"
      },
      "execution_count": 9,
      "outputs": []
    },
    {
      "cell_type": "code",
      "source": [
        "history = model.fit_generator(train_generator,\n",
        "                              epochs=10,\n",
        "                              steps_per_epoch=2276//32,\n",
        "                              validation_data=test_generator,\n",
        "                              validation_steps=251//32,\n",
        "                              workers = 8,\n",
        "                              callbacks=callbacks_list) \n",
        "#41 epoch - 75% #73- 76.9%\n",
        "#78 epoch - 80%"
      ],
      "metadata": {
        "colab": {
          "base_uri": "https://localhost:8080/"
        },
        "id": "JMQzGqlw5nLB",
        "outputId": "ac0de99d-0b7e-4172-93a8-c9ece6e2bda5"
      },
      "execution_count": 10,
      "outputs": [
        {
          "output_type": "stream",
          "name": "stderr",
          "text": [
            "/usr/local/lib/python3.7/dist-packages/ipykernel_launcher.py:7: UserWarning: `Model.fit_generator` is deprecated and will be removed in a future version. Please use `Model.fit`, which supports generators.\n",
            "  import sys\n"
          ]
        },
        {
          "output_type": "stream",
          "name": "stdout",
          "text": [
            "Epoch 1/10\n",
            "71/71 [==============================] - ETA: 0s - loss: 1.7604 - accuracy: 0.2161\n",
            "Epoch 1: val_accuracy improved from -inf to 0.24107, saving model to trained_model.woo\n",
            "INFO:tensorflow:Assets written to: trained_model.woo/assets\n",
            "71/71 [==============================] - 240s 3s/step - loss: 1.7604 - accuracy: 0.2161 - val_loss: 1.7196 - val_accuracy: 0.2411\n",
            "Epoch 2/10\n",
            "71/71 [==============================] - ETA: 0s - loss: 1.6729 - accuracy: 0.2790\n",
            "Epoch 2: val_accuracy improved from 0.24107 to 0.30804, saving model to trained_model.woo\n",
            "INFO:tensorflow:Assets written to: trained_model.woo/assets\n",
            "71/71 [==============================] - 215s 3s/step - loss: 1.6729 - accuracy: 0.2790 - val_loss: 1.6616 - val_accuracy: 0.3080\n",
            "Epoch 3/10\n",
            "71/71 [==============================] - ETA: 0s - loss: 1.5343 - accuracy: 0.3636\n",
            "Epoch 3: val_accuracy improved from 0.30804 to 0.34821, saving model to trained_model.woo\n",
            "INFO:tensorflow:Assets written to: trained_model.woo/assets\n",
            "71/71 [==============================] - 214s 3s/step - loss: 1.5343 - accuracy: 0.3636 - val_loss: 1.5421 - val_accuracy: 0.3482\n",
            "Epoch 4/10\n",
            "71/71 [==============================] - ETA: 0s - loss: 1.4333 - accuracy: 0.3980\n",
            "Epoch 4: val_accuracy improved from 0.34821 to 0.47321, saving model to trained_model.woo\n",
            "INFO:tensorflow:Assets written to: trained_model.woo/assets\n",
            "71/71 [==============================] - 213s 3s/step - loss: 1.4333 - accuracy: 0.3980 - val_loss: 1.3607 - val_accuracy: 0.4732\n",
            "Epoch 5/10\n",
            "71/71 [==============================] - ETA: 0s - loss: 1.3843 - accuracy: 0.4327\n",
            "Epoch 5: val_accuracy improved from 0.47321 to 0.49107, saving model to trained_model.woo\n",
            "INFO:tensorflow:Assets written to: trained_model.woo/assets\n",
            "71/71 [==============================] - 213s 3s/step - loss: 1.3843 - accuracy: 0.4327 - val_loss: 1.3200 - val_accuracy: 0.4911\n",
            "Epoch 6/10\n",
            "71/71 [==============================] - ETA: 0s - loss: 1.3816 - accuracy: 0.4336\n",
            "Epoch 6: val_accuracy did not improve from 0.49107\n",
            "71/71 [==============================] - 211s 3s/step - loss: 1.3816 - accuracy: 0.4336 - val_loss: 1.2668 - val_accuracy: 0.4554\n",
            "Epoch 7/10\n",
            "71/71 [==============================] - ETA: 0s - loss: 1.3429 - accuracy: 0.4737\n",
            "Epoch 7: val_accuracy improved from 0.49107 to 0.49554, saving model to trained_model.woo\n",
            "INFO:tensorflow:Assets written to: trained_model.woo/assets\n",
            "71/71 [==============================] - 212s 3s/step - loss: 1.3429 - accuracy: 0.4737 - val_loss: 1.2454 - val_accuracy: 0.4955\n",
            "Epoch 8/10\n",
            "71/71 [==============================] - ETA: 0s - loss: 1.3108 - accuracy: 0.4933\n",
            "Epoch 8: val_accuracy improved from 0.49554 to 0.52679, saving model to trained_model.woo\n",
            "INFO:tensorflow:Assets written to: trained_model.woo/assets\n",
            "71/71 [==============================] - 212s 3s/step - loss: 1.3108 - accuracy: 0.4933 - val_loss: 1.2696 - val_accuracy: 0.5268\n",
            "Epoch 9/10\n",
            "71/71 [==============================] - ETA: 0s - loss: 1.2419 - accuracy: 0.5214\n",
            "Epoch 9: val_accuracy did not improve from 0.52679\n",
            "71/71 [==============================] - 210s 3s/step - loss: 1.2419 - accuracy: 0.5214 - val_loss: 1.2592 - val_accuracy: 0.4732\n",
            "Epoch 10/10\n",
            "71/71 [==============================] - ETA: 0s - loss: 1.2172 - accuracy: 0.5223\n",
            "Epoch 10: val_accuracy improved from 0.52679 to 0.53571, saving model to trained_model.woo\n",
            "INFO:tensorflow:Assets written to: trained_model.woo/assets\n",
            "71/71 [==============================] - 211s 3s/step - loss: 1.2172 - accuracy: 0.5223 - val_loss: 1.1596 - val_accuracy: 0.5357\n"
          ]
        }
      ]
    },
    {
      "cell_type": "code",
      "source": [
        "from keras.preprocessing import image\n",
        "\n",
        "img_path = '/content/drive/MyDrive/Colab Notebooks/dataset-resized/plastic/plastic75.jpg'\n",
        "\n",
        "img = image.load_img(img_path, target_size=(256, 256)) #temp change from 256,256\n",
        "img = image.img_to_array(img, dtype=np.uint8)\n",
        "img=np.array(img)/255.0\n",
        "\n",
        "plt.title(\"Loaded Image\")\n",
        "plt.axis('off')\n",
        "plt.imshow(img.squeeze())\n",
        "\n",
        "p=model.predict(img[np.newaxis, ...])\n",
        "\n",
        "#print(\"Predicted shape\",p.shape)\n",
        "print(\"Maximum Probability: \",np.max(p[0], axis=-1))\n",
        "predicted_class = labels[np.argmax(p[0], axis=-1)]\n",
        "print(\"Classified:\",predicted_class)"
      ],
      "metadata": {
        "id": "Q8YSY9m_50FD",
        "colab": {
          "base_uri": "https://localhost:8080/",
          "height": 300
        },
        "outputId": "832a0de9-1167-4164-b148-79e0e43905a7"
      },
      "execution_count": 11,
      "outputs": [
        {
          "output_type": "stream",
          "name": "stdout",
          "text": [
            "Maximum Probability:  0.940529\n",
            "Classified: plastic\n"
          ]
        },
        {
          "output_type": "display_data",
          "data": {
            "text/plain": [
              "<Figure size 432x288 with 1 Axes>"
            ],
            "image/png": "[encoded data removed]"
          },
          "metadata": {
            "needs_background": "light"
          }
        }
      ]
    },
    {
      "cell_type": "code",
      "source": [
        "classes=[]\n",
        "prob=[]\n",
        "print(\"\\n-------------------Individual Probability--------------------------------\\n\")\n",
        "\n",
        "for i,j in enumerate (p[0],0):\n",
        "    print(labels[i].upper(),':',round(j*100,2),'%')\n",
        "    classes.append(labels[i])\n",
        "    prob.append(round(j*100,2))\n",
        "    \n",
        "def plot_bar_x():\n",
        "    # this is for plotting purpose\n",
        "    index = np.arange(len(classes))\n",
        "    plt.bar(index, prob)\n",
        "    plt.xlabel('Labels', fontsize=12)\n",
        "    plt.ylabel('Probability', fontsize=12)\n",
        "    plt.xticks(index, classes, fontsize=12, rotation=20)\n",
        "    plt.title('Probability for loaded image')\n",
        "    plt.show()\n",
        "plot_bar_x()"
      ],
      "metadata": {
        "id": "67pcueaL6Cp6",
        "colab": {
          "base_uri": "https://localhost:8080/",
          "height": 484
        },
        "outputId": "0179ff0b-599c-4fdf-883e-628f52ad0caa"
      },
      "execution_count": 12,
      "outputs": [
        {
          "output_type": "stream",
          "name": "stdout",
          "text": [
            "\n",
            "-------------------Individual Probability--------------------------------\n",
            "\n",
            "CARDBOARD : 0.26 %\n",
            "GLASS : 1.51 %\n",
            "METAL : 1.28 %\n",
            "PAPER : 2.86 %\n",
            "PLASTIC : 94.05 %\n",
            "TRASH : 0.04 %\n"
          ]
        },
        {
          "output_type": "display_data",
          "data": {
            "text/plain": [
              "<Figure size 432x288 with 1 Axes>"
            ],
            "image/png": "[encoded data removed]"
          },
          "metadata": {
            "needs_background": "light"
          }
        }
      ]
    },
    {
      "cell_type": "code",
      "source": [
        "acc = history.history['accuracy']\n",
        "val_acc = history.history['val_accuracy']\n",
        "\n",
        "loss = history.history['loss']\n",
        "val_loss = history.history['val_loss']\n",
        "\n",
        "# ________________ Graph 1 -------------------------\n",
        "\n",
        "plt.figure(figsize=(8, 8))\n",
        "plt.subplot(2, 1, 1)\n",
        "plt.plot(acc, label='Training Accuracy')\n",
        "plt.plot(val_acc, label='Validation Accuracy')\n",
        "plt.legend(loc='lower right')\n",
        "plt.ylabel('Accuracy')\n",
        "plt.ylim([min(plt.ylim()),1])\n",
        "plt.title('Training and Validation Accuracy')\n",
        "\n",
        "# ________________ Graph 2 -------------------------\n",
        "\n",
        "plt.subplot(2, 1, 2)\n",
        "plt.plot(loss, label='Training Loss')\n",
        "plt.plot(val_loss, label='Validation Loss')\n",
        "plt.legend(loc='upper right')\n",
        "plt.ylabel('Cross Entropy')\n",
        "plt.ylim([0,max(plt.ylim())])\n",
        "plt.title('Training and Validation Loss')\n",
        "plt.show()"
      ],
      "metadata": {
        "id": "4-ZIg0gA6HH0",
        "colab": {
          "base_uri": "https://localhost:8080/",
          "height": 499
        },
        "outputId": "c7edeaf1-54bc-4d35-a3c3-6df2e0e0b932"
      },
      "execution_count": 13,
      "outputs": [
        {
          "output_type": "display_data",
          "data": {
            "text/plain": [
              "<Figure size 576x576 with 2 Axes>"
            ],
            "image/png": "[encoded data removed]"
          },
          "metadata": {
            "needs_background": "light"
          }
        }
      ]
    },
    {
      "cell_type": "code",
      "source": [
        "import tensorflow as tf\n",
        "import keras\n",
        "file = \"/content/drive/MyDrive/Colab Notebooks/Garbage.h5\"\n",
        "keras.models.save_model(model,file)\n",
        "converter = tf.compat.v1.lite.TFLiteConverter.from_keras_model_file(file) \n",
        "tflite_model=converter.convert()\n",
        "open(\"garbage.tflite\",'wb').write(tflite_model)"
      ],
      "metadata": {
        "colab": {
          "base_uri": "https://localhost:8080/"
        },
        "id": "do7-574b3_JR",
        "outputId": "2a4e25e7-1984-405a-ff53-0d73788892c5"
      },
      "execution_count": 14,
      "outputs": [
        {
          "output_type": "stream",
          "name": "stdout",
          "text": [
            "INFO:tensorflow:Assets written to: /tmp/tmptrebnd0d/assets\n",
            "WARNING:tensorflow:From /usr/local/lib/python3.7/dist-packages/tensorflow/lite/python/convert_saved_model.py:59: load (from tensorflow.python.saved_model.loader_impl) is deprecated and will be removed in a future version.\n",
            "Instructions for updating:\n",
            "This function will only be available through the v1 compatibility library as tf.compat.v1.saved_model.loader.load or tf.compat.v1.saved_model.load. There will be a new function for importing SavedModels in Tensorflow 2.0.\n",
            "INFO:tensorflow:Restoring parameters from /tmp/tmptrebnd0d/variables/variables\n",
            "INFO:tensorflow:The given SavedModel MetaGraphDef contains SignatureDefs with the following keys: {'__saved_model_init_op', 'serving_default'}\n",
            "INFO:tensorflow:input tensors info: \n",
            "INFO:tensorflow:Tensor's key in saved_model's tensor_map: conv2d_input\n",
            "INFO:tensorflow: tensor name: serving_default_conv2d_input:0, shape: (-1, 256, 256, 3), type: DT_FLOAT\n",
            "INFO:tensorflow:output tensors info: \n",
            "INFO:tensorflow:Tensor's key in saved_model's tensor_map: dense_2\n",
            "INFO:tensorflow: tensor name: StatefulPartitionedCall:0, shape: (-1, 6), type: DT_FLOAT\n",
            "INFO:tensorflow:Restoring parameters from /tmp/tmptrebnd0d/variables/variables\n",
            "WARNING:tensorflow:From /usr/local/lib/python3.7/dist-packages/tensorflow/lite/python/util.py:306: convert_variables_to_constants (from tensorflow.python.framework.graph_util_impl) is deprecated and will be removed in a future version.\n",
            "Instructions for updating:\n",
            "Use `tf.compat.v1.graph_util.convert_variables_to_constants`\n",
            "WARNING:tensorflow:From /usr/local/lib/python3.7/dist-packages/tensorflow/python/framework/convert_to_constants.py:925: extract_sub_graph (from tensorflow.python.framework.graph_util_impl) is deprecated and will be removed in a future version.\n",
            "Instructions for updating:\n",
            "Use `tf.compat.v1.graph_util.extract_sub_graph`\n"
          ]
        },
        {
          "output_type": "stream",
          "name": "stderr",
          "text": [
            "WARNING:absl:Buffer deduplication procedure will be skipped when flatbuffer library is not properly loaded\n"
          ]
        },
        {
          "output_type": "execute_result",
          "data": {
            "text/plain": [
              "8553568"
            ]
          },
          "metadata": {},
          "execution_count": 14
        }
      ]
    },
    {
      "cell_type": "code",
      "source": [
        "\n",
        "model.evaluate(test_generator,use_multiprocessing=True,workers=4)"
      ],
      "metadata": {
        "colab": {
          "base_uri": "https://localhost:8080/"
        },
        "id": "mDGPElxI5Fnh",
        "outputId": "7b2aeb88-3600-462e-bc89-a74e9a527625"
      },
      "execution_count": 15,
      "outputs": [
        {
          "output_type": "stream",
          "name": "stdout",
          "text": [
            "8/8 [==============================] - 9s 955ms/step - loss: 1.1637 - accuracy: 0.5299\n"
          ]
        },
        {
          "output_type": "execute_result",
          "data": {
            "text/plain": [
              "[1.1636831760406494, 0.5298804640769958]"
            ]
          },
          "metadata": {},
          "execution_count": 15
        }
      ]
    },
    {
      "cell_type": "code",
      "source": [
        "model.load_weights(\"/content/drive/MyDrive/Colab Notebooks/Garbage.h5\") # initialize the best trained weights\n",
        "\n",
        "true_classes = test_generator.classes\n",
        "class_indices = train_generator.class_indices\n",
        "class_indices = dict((v,k) for k,v in class_indices.items())\n",
        "\n",
        "vgg_preds = model.predict(test_generator)\n",
        "vgg_pred_classes = np.argmax(vgg_preds, axis=1)"
      ],
      "metadata": {
        "id": "PYzGNSaL8iaD"
      },
      "execution_count": 16,
      "outputs": []
    },
    {
      "cell_type": "code",
      "source": [
        "from sklearn.metrics import accuracy_score\n",
        "\n",
        "vgg_acc = accuracy_score(true_classes, vgg_pred_classes)\n",
        "print(\"VGG16 Model Accuracy without Fine-Tuning: {:.2f}%\".format(vgg_acc * 100))"
      ],
      "metadata": {
        "colab": {
          "base_uri": "https://localhost:8080/"
        },
        "id": "GFDTjhloTypm",
        "outputId": "c4c15554-6aa6-412e-9fa1-ba6e7f8a9139"
      },
      "execution_count": 17,
      "outputs": [
        {
          "output_type": "stream",
          "name": "stdout",
          "text": [
            "VGG16 Model Accuracy without Fine-Tuning: 18.33%\n"
          ]
        }
      ]
    }
  ]
}